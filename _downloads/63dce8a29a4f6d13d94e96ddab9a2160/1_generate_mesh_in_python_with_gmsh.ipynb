{
  "cells": [
    {
      "cell_type": "code",
      "execution_count": null,
      "metadata": {
        "collapsed": false
      },
      "outputs": [],
      "source": [
        "%matplotlib inline"
      ]
    },
    {
      "cell_type": "markdown",
      "metadata": {},
      "source": [
        "\n# Generate mesh in Python with Gmsh\n\nThis examples describes how to generate a mesh using Gmsh in Python. It requires :mod:`pygmsh` to be installed:\n\n.. code-block:: bash\n\n    pip install pygmsh==6.1.1 --user\n\nThe mesh can also be generated from scratch directly in Gmsh either using its GUI and/or its internal scripting language.\n\nNote that :mod:`toughio` is not required at this preliminary stage of the pre-processing. This example only intends to show how the mesh used in this sample problem has been generated. The user is free to use any meshing software as long as the mesh format is supported by :mod:`toughio` (through :mod:`meshio`).\n"
      ]
    },
    {
      "cell_type": "markdown",
      "metadata": {},
      "source": [
        "First, we import :mod:`numpy` and :mod:`pygmsh`, and initialize a :class:`pygmsh.Geometry` object that will be used to construct all the geometrical entities of the model.\n\n"
      ]
    },
    {
      "cell_type": "code",
      "execution_count": null,
      "metadata": {
        "collapsed": false
      },
      "outputs": [],
      "source": [
        "import numpy\nimport pygmsh\n\ngeo = pygmsh.built_in.Geometry()"
      ]
    },
    {
      "cell_type": "markdown",
      "metadata": {},
      "source": [
        "We can define a bunch of useful variables such as the characteristic length or some parameters to characterize the model.\n\n"
      ]
    },
    {
      "cell_type": "code",
      "execution_count": null,
      "metadata": {
        "collapsed": false
      },
      "outputs": [],
      "source": [
        "lc = 100.0                              # Characteristic length of mesh\nxmin, xmax = 0.0, 2000.0                # X axis boundaries\nzmin, zmax = -500.0, -2500.0            # Z axis boundaries\n\ninj_z = -1500.0                         # Depth of injection\nflt_offset = 50.0                       # Offset of fault\nflt_thick = 10.0                        # Thickness of fault\ntana = numpy.tan(numpy.deg2rad(80.0))   # Tangeant of dipping angle of fault\ndist = 500.0 - 0.5 * flt_thick          # Distance from injection point (0.0, -1500.0) to left wall of fault\n\nbnd_thick = 10.0                        # Thickness of boundary elements"
      ]
    },
    {
      "cell_type": "markdown",
      "metadata": {},
      "source": [
        "We start by defining the geometrical entity representing the fault.\nThe fault is represented as a finite-thickness element that intersects all the layers of the model.\nTo ensure conformity of the final mesh, each wall of the fault is represented by a segmented line where the positions of the nodes correspond to the intersections of the hanging (left) and foot (right) walls with the different layers.\nNote that the foot wall is inverted so that the fault entity forms a closed rectangular loop.\n\n"
      ]
    },
    {
      "cell_type": "code",
      "execution_count": null,
      "metadata": {
        "collapsed": false
      },
      "outputs": [],
      "source": [
        "depths = [zmin, -1300.0, -1450.0, -1550.0, -1700.0, zmax]\nfault_left = [[dist + (z - inj_z) / tana, z, 0.0] for z in depths]\n\ndepths = [zmin, -1300.0 + flt_offset, -1450.0 + flt_offset, -1550.0 + flt_offset, -1700.0 + flt_offset, zmax]\nfault_right = [[dist + (z - inj_z) / tana + flt_thick, z, 0.0] for z in depths]\n\nfault = geo.add_polygon(\n    X=fault_left + fault_right[::-1],\n    lcar=0.1 * lc,\n)"
      ]
    },
    {
      "cell_type": "markdown",
      "metadata": {},
      "source": [
        "Now, we define the aquifer located at the left side of the fault.\nTo refine the mesh in the injection zone, the characteristic length of each layer entity is increased the farther we get from the injection point.\nNote that layers are defined such that their characteristic lengths are increasing. This is because Gmsh keeps the first node defined in the geometry in case it detects duplicated nodes.\n\n"
      ]
    },
    {
      "cell_type": "code",
      "execution_count": null,
      "metadata": {
        "collapsed": false
      },
      "outputs": [],
      "source": [
        "cenaq_left = geo.add_polygon(\n    X=[\n        [xmin, -1450.0, 0.0],\n        [dist + (-1450.0 - inj_z) / tana, -1450.0, 0.0],\n        [dist + (-1550.0 - inj_z) / tana, -1550.0, 0.0],\n        [xmin, -1550.0, 0.0],\n    ],\n    lcar=0.1 * lc,\n)\n\ncapro_top_left = geo.add_polygon(\n    X=[\n        [xmin, -1300.0, 0.0],\n        [dist + (-1300.0 - inj_z) / tana, -1300.0, 0.0],\n        [dist + (-1450.0 - inj_z) / tana, -1450.0, 0.0],\n        [xmin, -1450.0, 0.0],\n    ],\n    lcar=0.2 * lc,\n)\n\ncapro_bot_left = geo.add_polygon(\n    X=[\n        [xmin, -1550.0, 0.0],\n        [dist + (-1550.0 - inj_z) / tana, -1550.0, 0.0],\n        [dist + (-1700.0 - inj_z) / tana, -1700.0, 0.0],\n        [xmin, -1700.0, 0.0],\n    ],\n    lcar=0.2 * lc,\n)\n\nuppaq_left = geo.add_polygon(\n    X=[\n        [xmin, zmin, 0.0],\n        [dist + (zmin - inj_z) / tana, zmin, 0.0],\n        [dist + (-1300.0 - inj_z) / tana, -1300.0, 0.0],\n        [xmin, -1300.0, 0.0],\n    ],\n    lcar=2.0 * lc,\n)\n\nbasaq_left = geo.add_polygon(\n    X=[\n        [xmin, -1700.0, 0.0],\n        [dist + (-1700.0 - inj_z) / tana, -1700.0, 0.0],\n        [dist + (zmax - inj_z) / tana, zmax, 0.0],\n        [xmin, zmax, 0.0],\n    ],\n    lcar=2.0 * lc,\n)"
      ]
    },
    {
      "cell_type": "markdown",
      "metadata": {},
      "source": [
        "Likewise, we also define the aquifer located at the right side of the fault.\n\n"
      ]
    },
    {
      "cell_type": "code",
      "execution_count": null,
      "metadata": {
        "collapsed": false
      },
      "outputs": [],
      "source": [
        "cenaq_right = geo.add_polygon(\n    X=[\n        [dist + (-1450.0 - inj_z + flt_offset) / tana + flt_thick, -1450.0 + flt_offset, 0.0],\n        [xmax, -1450.0 + flt_offset, 0.0],\n        [xmax, -1550.0 + flt_offset, 0.0],\n        [dist + (-1550.0 - inj_z + flt_offset) / tana + flt_thick, -1550.0 + flt_offset, 0.0],\n    ],\n    lcar=0.75 * lc,\n)\n\ncapro_top_right = geo.add_polygon(\n    X=[\n        [dist + (-1300.0 - inj_z + flt_offset) / tana + flt_thick, -1300.0 + flt_offset, 0.0],\n        [xmax, -1300.0 + flt_offset, 0.0],\n        [xmax, -1450.0 + flt_offset, 0.0],\n        [dist + (-1450.0 - inj_z + flt_offset) / tana + flt_thick, -1450.0 + flt_offset, 0.0],\n    ],\n    lcar=0.75 * lc,\n)\n\ncapro_bot_right = geo.add_polygon(\n    X=[\n        [dist + (-1550.0 - inj_z + flt_offset) / tana + flt_thick, -1550.0 + flt_offset, 0.0],\n        [xmax, -1550.0 + flt_offset, 0.0],\n        [xmax, -1700.0 + flt_offset, 0.0],\n        [dist + (-1700.0 - inj_z + flt_offset) / tana + flt_thick, -1700.0 + flt_offset, 0.0],\n    ],\n    lcar=0.75 * lc,\n)\n\nuppaq_right = geo.add_polygon(\n    X=[\n        [dist + (zmin - inj_z) / tana + flt_thick, zmin, 0.0],\n        [xmax, zmin, 0.0],\n        [xmax, -1300.0 + flt_offset, 0.0],\n        [dist + (-1300.0 - inj_z + flt_offset) / tana + flt_thick, -1300.0 + flt_offset, 0.0],\n    ],\n    lcar=2.0 * lc,\n)\n\nbasaq_right = geo.add_polygon(\n    X=[\n        [dist + (-1700.0 - inj_z + flt_offset) / tana + flt_thick, -1700.0 + flt_offset, 0.0],\n        [xmax, -1700.0 + flt_offset, 0.0],\n        [xmax, zmax, 0.0],\n        [dist + (zmax-inj_z) / tana + flt_thick, zmax, 0.0],\n    ],\n    lcar=2.0 * lc,\n)"
      ]
    },
    {
      "cell_type": "markdown",
      "metadata": {},
      "source": [
        "Then, we define the boundary elements.\nIn this sample problem, a no-flow boundary condition is imposed on the left side of the model (default in TOUGH), and Dirichlet boundary conditions are imposed elsewhere.\nThus, physical boundary elements must be defined at the top, right and bottom sides of the model.\nSimilarly to the fault entity, boundary entities are segmented to ensure conformity of the final mesh.\n\n"
      ]
    },
    {
      "cell_type": "code",
      "execution_count": null,
      "metadata": {
        "collapsed": false
      },
      "outputs": [],
      "source": [
        "bound_right = geo.add_polygon(\n    X=[\n        [xmax, zmin, 0.0],\n        [xmax + bnd_thick, zmin, 0.0],\n        [xmax + bnd_thick, zmax, 0.0],\n        [xmax, zmax, 0.0],\n        [xmax, -1700.0 + flt_offset, 0.0],\n        [xmax, -1550.0 + flt_offset, 0.0],\n        [xmax, -1450.0 + flt_offset, 0.0],\n        [xmax, -1300.0 + flt_offset, 0.0],\n    ],\n    lcar=lc,\n)\n\nbound_top = geo.add_polygon(\n    X=[\n        [xmin, zmin, 0.0],\n        [dist + (zmin - inj_z) / tana, zmin, 0.0],\n        [dist + (zmin - inj_z) / tana + flt_thick, zmin, 0.0],\n        [xmax, zmin, 0.0],\n        [xmax + bnd_thick, zmin, 0.0],\n        [xmax + bnd_thick, zmin + bnd_thick, 0.0],\n        [dist + (zmin - inj_z + bnd_thick) / tana + flt_thick, zmin + bnd_thick, 0.0],\n        [dist + (zmin - inj_z + bnd_thick) / tana, zmin + bnd_thick, 0.0],\n        [xmin, zmin + bnd_thick, 0.0],\n    ],\n    lcar=lc,\n)\n\nbound_bot = geo.add_polygon(\n    X=[\n        [xmin, zmax, 0.0],\n        [dist + (zmax - inj_z) / tana, zmax, 0.0],\n        [dist + (zmax - inj_z) / tana + flt_thick, zmax, 0.0],\n        [xmax, zmax, 0.0],\n        [xmax + bnd_thick, zmax, 0.0],\n        [xmax + bnd_thick, zmax - bnd_thick, 0.0],\n        [dist + (zmax - inj_z - bnd_thick) / tana + flt_thick, zmax - bnd_thick, 0.0],\n        [dist + (zmax - inj_z - bnd_thick) / tana, zmax - bnd_thick, 0.0],\n        [xmin, zmax - bnd_thick, 0.0],\n    ],\n    lcar=lc,\n)"
      ]
    },
    {
      "cell_type": "markdown",
      "metadata": {},
      "source": [
        "Finally, we assign rock types/materials as Gmsh physical properties.\n\n"
      ]
    },
    {
      "cell_type": "code",
      "execution_count": null,
      "metadata": {
        "collapsed": false
      },
      "outputs": [],
      "source": [
        "geo.add_physical(\n    entities=[\n        uppaq_left.surface,\n        uppaq_right.surface,\n    ],\n    label=\"UPPAQ\",\n)\ngeo.add_physical(\n    entities=[\n        capro_top_left.surface,\n        capro_bot_left.surface,\n        capro_top_right.surface,\n        capro_bot_right.surface,\n    ],\n    label=\"CAPRO\",\n)\ngeo.add_physical(\n    entities=[\n        cenaq_left.surface,\n        cenaq_right.surface,\n    ],\n    label=\"CENAQ\",\n)\ngeo.add_physical(\n    entities=[\n        basaq_left.surface,\n        basaq_right.surface,\n    ],\n    label=\"BASAQ\",\n)\ngeo.add_physical(\n    entities=fault.surface,\n    label=\"FAULT\",\n)\ngeo.add_physical(\n    entities=[\n        bound_right.surface,\n        bound_top.surface,\n        bound_bot.surface,\n    ],\n    label=\"BOUND\",\n)"
      ]
    },
    {
      "cell_type": "markdown",
      "metadata": {},
      "source": [
        "Finally, we can generate the geometry file and import it into Gmsh to generate the final mesh.\n\n"
      ]
    },
    {
      "cell_type": "code",
      "execution_count": null,
      "metadata": {
        "collapsed": false
      },
      "outputs": [],
      "source": [
        "with open(\"mesh.geo\", \"w\") as f:\n    f.write(geo.get_code())"
      ]
    },
    {
      "cell_type": "markdown",
      "metadata": {},
      "source": [
        "Alternatively, the Gmsh mesh file can also be directly generated in Python by specifying the path to Gmsh executable (if Gmsh has not been added to the system PATH).\n\n.. code-block:: python\n\n      geo.add_raw_code(\"Coherence;\")\n      mesh = pygmsh.generate_mesh(\n          geo,\n          dim=2,\n          prune_vertices=True,\n          remove_lower_dim_cells=True,\n          gmsh_path=\"gmsh\",  # Change the path here\n          geo_filename=\"mesh.geo\",\n          msh_filename=\"mesh.msh\",\n          mesh_file_type=\"msh4\",\n          extra_gmsh_arguments=[\n              \"-smooth\", \"2\",\n              \"-optimize_netgen\",\n          ],\n          verbose=False,\n      )\n\n"
      ]
    },
    {
      "cell_type": "markdown",
      "metadata": {},
      "source": [
        "The generated mesh can be visualized in Python with :mod:`pyvista`.\n\n"
      ]
    },
    {
      "cell_type": "code",
      "execution_count": null,
      "metadata": {
        "collapsed": false
      },
      "outputs": [],
      "source": [
        "import pyvista\npyvista.set_plot_theme(\"document\")\n\np = pyvista.Plotter(window_size=(800, 800))\np.add_mesh(\n    mesh=pyvista.read(\"mesh.msh\"),\n    scalars=\"gmsh:physical\",\n    stitle=\"Materials\",\n    show_scalar_bar=True,\n    show_edges=True,\n)\np.view_xy()\np.show()"
      ]
    }
  ],
  "metadata": {
    "kernelspec": {
      "display_name": "Python 3",
      "language": "python",
      "name": "python3"
    },
    "language_info": {
      "codemirror_mode": {
        "name": "ipython",
        "version": 3
      },
      "file_extension": ".py",
      "mimetype": "text/x-python",
      "name": "python",
      "nbconvert_exporter": "python",
      "pygments_lexer": "ipython3",
      "version": "3.8.0"
    }
  },
  "nbformat": 4,
  "nbformat_minor": 0
}